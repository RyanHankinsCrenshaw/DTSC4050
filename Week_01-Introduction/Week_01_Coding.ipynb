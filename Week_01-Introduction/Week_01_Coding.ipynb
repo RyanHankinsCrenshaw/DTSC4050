{
  "cells": [
    {
      "cell_type": "markdown",
      "metadata": {
        "id": "view-in-github",
        "colab_type": "text"
      },
      "source": [
        "<a href=\"https://colab.research.google.com/github/RyanHankinsCrenshaw/DTSC4050/blob/main/Week_01-Introduction/Week_01_Coding.ipynb\" target=\"_parent\"><img src=\"https://colab.research.google.com/assets/colab-badge.svg\" alt=\"Open In Colab\"/></a>"
      ]
    },
    {
      "cell_type": "markdown",
      "id": "1447dd83",
      "metadata": {
        "id": "1447dd83"
      },
      "source": [
        "# Week 1 - Coding\n",
        "\n"
      ]
    },
    {
      "cell_type": "markdown",
      "source": [
        "## Linear Regression Example"
      ],
      "metadata": {
        "id": "G6zJqW0UDgLb"
      },
      "id": "G6zJqW0UDgLb"
    },
    {
      "cell_type": "code",
      "execution_count": null,
      "id": "1521fe97",
      "metadata": {
        "id": "1521fe97"
      },
      "outputs": [],
      "source": [
        "# get the data\n",
        "# import pandas as pd\n",
        "\n",
        "# url = 'https://raw.githubusercontent.com/gitmystuff/Datasets/main/Advertising.csv'\n",
        "# df = pd.read_csv(url, usecols=['TV', 'radio', 'newspaper', 'sales'])\n",
        "# df.head()"
      ]
    },
    {
      "cell_type": "code",
      "execution_count": null,
      "id": "64b331cb",
      "metadata": {
        "id": "64b331cb"
      },
      "outputs": [],
      "source": [
        "# df.head(10)"
      ]
    },
    {
      "cell_type": "code",
      "execution_count": null,
      "id": "72f79b3f",
      "metadata": {
        "id": "72f79b3f"
      },
      "outputs": [],
      "source": [
        "# df.tail()"
      ]
    },
    {
      "cell_type": "code",
      "execution_count": null,
      "id": "92c1ee40",
      "metadata": {
        "id": "92c1ee40"
      },
      "outputs": [],
      "source": [
        "# df.sample(10)"
      ]
    },
    {
      "cell_type": "code",
      "execution_count": null,
      "id": "b28f2575",
      "metadata": {
        "id": "b28f2575"
      },
      "outputs": [],
      "source": [
        "# df.shape"
      ]
    },
    {
      "cell_type": "code",
      "execution_count": null,
      "id": "fdece09d",
      "metadata": {
        "id": "fdece09d"
      },
      "outputs": [],
      "source": [
        "# df.info()"
      ]
    },
    {
      "cell_type": "code",
      "execution_count": null,
      "id": "31595c6f",
      "metadata": {
        "id": "31595c6f"
      },
      "outputs": [],
      "source": [
        "# df.describe()"
      ]
    },
    {
      "cell_type": "code",
      "execution_count": null,
      "id": "d12e52ef",
      "metadata": {
        "id": "d12e52ef"
      },
      "outputs": [],
      "source": [
        "# import matplotlib.pyplot as plt\n",
        "\n",
        "# plt.hist(df['TV']);"
      ]
    },
    {
      "cell_type": "code",
      "execution_count": null,
      "id": "ddf68043",
      "metadata": {
        "id": "ddf68043"
      },
      "outputs": [],
      "source": [
        "# plt.hist(df['radio'], bins=5)\n",
        "# plt.xlabel('Amount')\n",
        "# plt.ylabel('Quantity')\n",
        "# plt.title('Radio Revenue')\n",
        "# plt.show();"
      ]
    },
    {
      "cell_type": "code",
      "execution_count": null,
      "id": "c610a0b3",
      "metadata": {
        "id": "c610a0b3"
      },
      "outputs": [],
      "source": [
        "# fig, axs = plt.subplots(1, 3, sharey=False, tight_layout=True)\n",
        "# axs[0].hist(df['TV'])\n",
        "# axs[0].set_xlabel('TV')\n",
        "\n",
        "# axs[1].hist(df['radio'])\n",
        "# axs[1].set_xlabel('radio')\n",
        "\n",
        "# axs[2].hist(df['newspaper'])\n",
        "# axs[2].set_xlabel('newspaper')\n",
        "\n",
        "# plt.show();"
      ]
    },
    {
      "cell_type": "code",
      "execution_count": null,
      "id": "94acbf3e",
      "metadata": {
        "id": "94acbf3e"
      },
      "outputs": [],
      "source": [
        "# df.hist()\n",
        "# plt.tight_layout()"
      ]
    },
    {
      "cell_type": "code",
      "execution_count": null,
      "id": "c9bacb5c",
      "metadata": {
        "id": "c9bacb5c"
      },
      "outputs": [],
      "source": [
        "# import seaborn as sns\n",
        "\n",
        "# sns.pairplot(df, x_vars=['TV','radio','newspaper'], y_vars='sales',\n",
        "#              kind='reg',\n",
        "#              height=5,\n",
        "#              aspect=0.8,\n",
        "#              plot_kws={'ci': None, 'line_kws':{'color':'red'}, 'scatter_kws': {'alpha': 0.5}});"
      ]
    },
    {
      "cell_type": "code",
      "execution_count": null,
      "id": "c6532dbd",
      "metadata": {
        "id": "c6532dbd"
      },
      "outputs": [],
      "source": [
        "# from sklearn.model_selection import train_test_split\n",
        "\n",
        "# X_train, X_test, y_train, y_test = train_test_split(df.drop(['sales'], axis=1),\n",
        "#                                                     df['sales'],\n",
        "#                                                     test_size=0.20,\n",
        "#                                                     random_state=42)\n",
        "# print(X_train.shape)\n",
        "# print(y_train.shape)"
      ]
    },
    {
      "cell_type": "code",
      "execution_count": null,
      "id": "5dfdc477",
      "metadata": {
        "id": "5dfdc477"
      },
      "outputs": [],
      "source": [
        "# from sklearn.linear_model import LinearRegression\n",
        "# from sklearn.metrics import mean_squared_error, r2_score\n",
        "\n",
        "# model = LinearRegression()\n",
        "# model.fit(X_train.values, y_train)\n",
        "# predictions = model.predict(X_test.values)\n",
        "# print(f'MSE: {mean_squared_error(y_true=y_test, y_pred=predictions)}')\n",
        "# print(f'R-Squared: {r2_score(y_test, predictions)}')"
      ]
    },
    {
      "cell_type": "code",
      "execution_count": null,
      "id": "96c65d48",
      "metadata": {
        "id": "96c65d48"
      },
      "outputs": [],
      "source": [
        "# import numpy as np\n",
        "\n",
        "# tv = 232.1\n",
        "# radio = 8.6\n",
        "# newspaper = 8.7\n",
        "# model.predict(np.array([tv, radio, newspaper]).reshape(1, -1))"
      ]
    },
    {
      "cell_type": "code",
      "execution_count": null,
      "id": "9a5a8cf5",
      "metadata": {
        "id": "9a5a8cf5"
      },
      "outputs": [],
      "source": [
        "# list(zip(X_train, model.coef_))"
      ]
    },
    {
      "cell_type": "markdown",
      "id": "4ab3c041",
      "metadata": {
        "id": "4ab3c041"
      },
      "source": [
        "## Python Data Model\n",
        "\n",
        "https://docs.python.org/3/reference/datamodel.html"
      ]
    },
    {
      "cell_type": "code",
      "source": [
        "# object\n",
        "obj = ('abc')\n",
        "print(id(obj))\n",
        "print (type(obj))\n",
        "print(obj)"
      ],
      "metadata": {
        "id": "OPf2ogpPFjkA",
        "colab": {
          "base_uri": "https://localhost:8080/"
        },
        "outputId": "8ad61b3f-1029-4454-9f02-3e91aec240bc"
      },
      "id": "OPf2ogpPFjkA",
      "execution_count": null,
      "outputs": [
        {
          "output_type": "stream",
          "name": "stdout",
          "text": [
            "137550521569520\n",
            "<class 'str'>\n",
            "abc\n"
          ]
        }
      ]
    },
    {
      "cell_type": "code",
      "source": [
        "# type\n",
        "print(type('abc'))"
      ],
      "metadata": {
        "id": "WVG_qS79FMsR"
      },
      "id": "WVG_qS79FMsR",
      "execution_count": null,
      "outputs": []
    },
    {
      "cell_type": "code",
      "source": [
        "# strings (categorical)\n"
      ],
      "metadata": {
        "id": "Bgj8dx7MDsna"
      },
      "id": "Bgj8dx7MDsna",
      "execution_count": null,
      "outputs": []
    },
    {
      "cell_type": "code",
      "source": [
        "# adding numbers (numerical)\n",
        "print(1+2)"
      ],
      "metadata": {
        "id": "6N7RVwpiC1Ae",
        "colab": {
          "base_uri": "https://localhost:8080/"
        },
        "outputId": "51c071a5-d3f3-4f17-f5f4-599ffb62c13a"
      },
      "id": "6N7RVwpiC1Ae",
      "execution_count": null,
      "outputs": [
        {
          "output_type": "stream",
          "name": "stdout",
          "text": [
            "3\n"
          ]
        }
      ]
    },
    {
      "cell_type": "code",
      "execution_count": null,
      "id": "d73127aa",
      "metadata": {
        "id": "d73127aa",
        "colab": {
          "base_uri": "https://localhost:8080/"
        },
        "outputId": "44cba30c-d12f-472f-f3f5-afb9ee1d0f3d"
      },
      "outputs": [
        {
          "output_type": "stream",
          "name": "stdout",
          "text": [
            "12\n"
          ]
        }
      ],
      "source": [
        "# adding numbers as strings\n",
        "print('1'+'2')\n"
      ]
    },
    {
      "cell_type": "markdown",
      "source": [
        "## Data Structures\n",
        "\n",
        "https://docs.python.org/3/tutorial/datastructures.html"
      ],
      "metadata": {
        "id": "OCwVE8CTD5jh"
      },
      "id": "OCwVE8CTD5jh"
    },
    {
      "cell_type": "code",
      "source": [
        "# list (mutable)\n",
        "l = [1, 2.0, 'hello', 3, 'world']\n",
        "print(l)\n",
        "l[4] = 'there'\n",
        "print(l)"
      ],
      "metadata": {
        "id": "4SSuE0lAC4JN",
        "colab": {
          "base_uri": "https://localhost:8080/"
        },
        "outputId": "2b2f0d33-72b3-4120-9fc2-f4e62eb22083"
      },
      "id": "4SSuE0lAC4JN",
      "execution_count": null,
      "outputs": [
        {
          "output_type": "stream",
          "name": "stdout",
          "text": [
            "[1, 2.0, 'hello', 3, 'world']\n",
            "[1, 2.0, 'hello', 3, 'there']\n"
          ]
        }
      ]
    },
    {
      "cell_type": "code",
      "source": [
        "# tuple (immutable)\n",
        "t = (1, 2,'hello', 3, 'there')\n",
        "print(t)\n"
      ],
      "metadata": {
        "id": "VmlFgBFyC_9E"
      },
      "id": "VmlFgBFyC_9E",
      "execution_count": null,
      "outputs": []
    },
    {
      "cell_type": "code",
      "source": [
        "# set\n",
        "print({1,2,3,3,4,5})"
      ],
      "metadata": {
        "id": "N7EffkyQDMB8",
        "colab": {
          "base_uri": "https://localhost:8080/"
        },
        "outputId": "e684d0de-22d5-4ad4-e8e8-357b3a52f778"
      },
      "id": "N7EffkyQDMB8",
      "execution_count": null,
      "outputs": [
        {
          "output_type": "stream",
          "name": "stdout",
          "text": [
            "{1, 2, 3, 4, 5}\n"
          ]
        }
      ]
    },
    {
      "cell_type": "code",
      "source": [
        "# dictionary\n",
        "d = {'one' : 1, 'two': 2, 'three': 3}\n",
        "\n",
        "print(d)\n",
        "print(d['two'])"
      ],
      "metadata": {
        "id": "eOyF5bqYDUDr",
        "colab": {
          "base_uri": "https://localhost:8080/"
        },
        "outputId": "c8fcb609-3ec0-4fab-f4db-3f71e1d58723"
      },
      "id": "eOyF5bqYDUDr",
      "execution_count": null,
      "outputs": [
        {
          "output_type": "stream",
          "name": "stdout",
          "text": [
            "{'one': 1, 'two': 2, 'three': 3}\n",
            "2\n"
          ]
        }
      ]
    },
    {
      "cell_type": "markdown",
      "id": "7c0544a9",
      "metadata": {
        "id": "7c0544a9"
      },
      "source": [
        "## Numpy"
      ]
    },
    {
      "cell_type": "code",
      "execution_count": 2,
      "id": "a0247b05",
      "metadata": {
        "id": "a0247b05",
        "colab": {
          "base_uri": "https://localhost:8080/"
        },
        "outputId": "deb2917f-fd6c-43e2-cd78-906d054fa0f2"
      },
      "outputs": [
        {
          "output_type": "stream",
          "name": "stdout",
          "text": [
            "0.9852096342740946\n"
          ]
        }
      ],
      "source": [
        "# random float\n",
        "# https://www.learndatasci.com/tutorials/applied-introduction-to-numpy-python-tutorial/\n",
        "import numpy as np\n",
        "\n",
        "print(np.random.rand())\n"
      ]
    },
    {
      "cell_type": "code",
      "source": [
        "# random int\n",
        "import numpy as np\n",
        "\n",
        "print(np.random.randint(10))"
      ],
      "metadata": {
        "id": "Bwv72fR0F838",
        "colab": {
          "base_uri": "https://localhost:8080/"
        },
        "outputId": "2ccc10bc-288d-4e10-8256-f8ea4e571e69"
      },
      "id": "Bwv72fR0F838",
      "execution_count": 3,
      "outputs": [
        {
          "output_type": "stream",
          "name": "stdout",
          "text": [
            "5\n"
          ]
        }
      ]
    },
    {
      "cell_type": "code",
      "source": [
        "# matrix of rows and columns\n",
        "mat = np.random.randint(10, size=(5, 5))\n",
        "print(mat)"
      ],
      "metadata": {
        "id": "gpHeMRLbGQO-",
        "colab": {
          "base_uri": "https://localhost:8080/"
        },
        "outputId": "bfb88acc-670f-4216-9618-3692332b5ad5"
      },
      "id": "gpHeMRLbGQO-",
      "execution_count": 5,
      "outputs": [
        {
          "output_type": "stream",
          "name": "stdout",
          "text": [
            "[[0 2 7 8 3]\n",
            " [6 1 6 2 4]\n",
            " [9 1 5 1 1]\n",
            " [2 9 1 7 5]\n",
            " [2 6 4 3 3]]\n"
          ]
        }
      ]
    },
    {
      "cell_type": "code",
      "source": [
        "# slicing [row, col]\n",
        "print(mat[0:1])"
      ],
      "metadata": {
        "id": "Y-FsfAOFGY4R",
        "colab": {
          "base_uri": "https://localhost:8080/"
        },
        "outputId": "28696d88-b8ea-4d55-812e-8fb00627e158"
      },
      "id": "Y-FsfAOFGY4R",
      "execution_count": 6,
      "outputs": [
        {
          "output_type": "stream",
          "name": "stdout",
          "text": [
            "[[0 2 7 8 3]]\n"
          ]
        }
      ]
    },
    {
      "cell_type": "code",
      "execution_count": 7,
      "id": "8b05c005",
      "metadata": {
        "id": "8b05c005",
        "colab": {
          "base_uri": "https://localhost:8080/"
        },
        "outputId": "e43e766f-74bd-4e83-96cc-277f98536760"
      },
      "outputs": [
        {
          "output_type": "stream",
          "name": "stdout",
          "text": [
            "[[8]\n",
            " [2]\n",
            " [1]]\n"
          ]
        }
      ],
      "source": [
        "# slicing [row start: end, col start: end]\n",
        "print(mat[0:3, 3:4])"
      ]
    },
    {
      "cell_type": "code",
      "source": [
        "# slicing [row start: end, col start: end]\n",
        "print(mat[:3,3:])"
      ],
      "metadata": {
        "id": "r_zKSUCCG2uX",
        "colab": {
          "base_uri": "https://localhost:8080/"
        },
        "outputId": "d5aa21d0-69e6-45f5-eeb1-73aa6202961e"
      },
      "id": "r_zKSUCCG2uX",
      "execution_count": 8,
      "outputs": [
        {
          "output_type": "stream",
          "name": "stdout",
          "text": [
            "[[8 3]\n",
            " [2 4]\n",
            " [1 1]]\n"
          ]
        }
      ]
    },
    {
      "cell_type": "markdown",
      "id": "89cb7d97",
      "metadata": {
        "id": "89cb7d97"
      },
      "source": [
        "## Pandas"
      ]
    },
    {
      "cell_type": "code",
      "execution_count": 9,
      "id": "c9d79042",
      "metadata": {
        "id": "c9d79042",
        "colab": {
          "base_uri": "https://localhost:8080/"
        },
        "outputId": "06f21ea7-821b-4d0b-ff23-25d0e13e96f2"
      },
      "outputs": [
        {
          "output_type": "stream",
          "name": "stdout",
          "text": [
            "   0  1  2  3  4\n",
            "0  0  2  7  8  3\n",
            "1  6  1  6  2  4\n",
            "2  9  1  5  1  1\n",
            "3  2  9  1  7  5\n",
            "4  2  6  4  3  3\n"
          ]
        }
      ],
      "source": [
        "# pandas examples\n",
        "# https://pandas.pydata.org/docs/user_guide/10min.html\n",
        "import pandas as pd\n",
        "\n",
        "print(pd.DataFrame(mat))\n"
      ]
    },
    {
      "cell_type": "code",
      "execution_count": 10,
      "id": "44df17e2",
      "metadata": {
        "id": "44df17e2",
        "colab": {
          "base_uri": "https://localhost:8080/"
        },
        "outputId": "29a0f038-35f5-4f99-cf19-f57c55ec4460"
      },
      "outputs": [
        {
          "output_type": "stream",
          "name": "stdout",
          "text": [
            "   col_one  col_two  col_three  col_four  col_five\n",
            "0        0        2          7         8         3\n",
            "1        6        1          6         2         4\n",
            "2        9        1          5         1         1\n",
            "3        2        9          1         7         5\n",
            "4        2        6          4         3         3\n"
          ]
        }
      ],
      "source": [
        "# assign column names\n",
        "ex  = pd.DataFrame(mat, columns=['col_one', 'col_two', 'col_three', 'col_four', 'col_five'])\n",
        "print(ex)"
      ]
    },
    {
      "cell_type": "code",
      "execution_count": 11,
      "id": "452adc09",
      "metadata": {
        "id": "452adc09",
        "colab": {
          "base_uri": "https://localhost:8080/"
        },
        "outputId": "669b445f-7704-4771-fa54-f5f2073d0d44"
      },
      "outputs": [
        {
          "output_type": "stream",
          "name": "stdout",
          "text": [
            "0    0\n",
            "1    6\n",
            "2    9\n",
            "3    2\n",
            "4    2\n",
            "Name: col_one, dtype: int64\n"
          ]
        }
      ],
      "source": [
        "# print col_one\n",
        "print(ex['col_one'])"
      ]
    },
    {
      "cell_type": "code",
      "execution_count": 12,
      "id": "7b92d4db",
      "metadata": {
        "id": "7b92d4db",
        "colab": {
          "base_uri": "https://localhost:8080/"
        },
        "outputId": "0a4f5f72-c2bd-49d0-bd83-921947e62575"
      },
      "outputs": [
        {
          "output_type": "stream",
          "name": "stdout",
          "text": [
            "0    0\n",
            "1    6\n",
            "2    9\n",
            "3    2\n",
            "4    2\n",
            "Name: col_one, dtype: int64\n"
          ]
        }
      ],
      "source": [
        "# print using dot notation\n",
        "print(ex.col_one)"
      ]
    },
    {
      "cell_type": "code",
      "execution_count": 13,
      "id": "04e03740",
      "metadata": {
        "id": "04e03740",
        "colab": {
          "base_uri": "https://localhost:8080/"
        },
        "outputId": "fbde56dd-bba6-41b6-d5d5-85d343d7d29a"
      },
      "outputs": [
        {
          "output_type": "stream",
          "name": "stdout",
          "text": [
            "col_one      6\n",
            "col_two      1\n",
            "col_three    6\n",
            "col_four     2\n",
            "col_five     4\n",
            "Name: 1, dtype: int64\n"
          ]
        }
      ],
      "source": [
        "# print row using loc\n",
        "print(ex.loc[1])"
      ]
    },
    {
      "cell_type": "code",
      "execution_count": 14,
      "id": "ec0e07e8",
      "metadata": {
        "scrolled": false,
        "id": "ec0e07e8",
        "colab": {
          "base_uri": "https://localhost:8080/"
        },
        "outputId": "0b7b7063-b01c-4538-859d-a57403cfd4ef"
      },
      "outputs": [
        {
          "output_type": "stream",
          "name": "stdout",
          "text": [
            "   col_four  col_five\n",
            "0         8         3\n",
            "1         2         4\n"
          ]
        }
      ],
      "source": [
        "# print slice using iloc\n",
        "print(ex.iloc[0:2,3:5])"
      ]
    },
    {
      "cell_type": "code",
      "source": [],
      "metadata": {
        "id": "GAeltbYm0umC"
      },
      "id": "GAeltbYm0umC",
      "execution_count": null,
      "outputs": []
    }
  ],
  "metadata": {
    "kernelspec": {
      "display_name": "Python 3 (ipykernel)",
      "language": "python",
      "name": "python3"
    },
    "language_info": {
      "codemirror_mode": {
        "name": "ipython",
        "version": 3
      },
      "file_extension": ".py",
      "mimetype": "text/x-python",
      "name": "python",
      "nbconvert_exporter": "python",
      "pygments_lexer": "ipython3",
      "version": "3.9.7"
    },
    "colab": {
      "provenance": [],
      "include_colab_link": true
    }
  },
  "nbformat": 4,
  "nbformat_minor": 5
}